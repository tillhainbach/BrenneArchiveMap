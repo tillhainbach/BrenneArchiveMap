{
 "cells": [
  {
   "cell_type": "code",
   "execution_count": 1,
   "metadata": {},
   "outputs": [],
   "source": [
    "import pandas as pd\n",
    "import numpy as np\n",
    "import json\n",
    "import uuid\n",
    "from IPython.display import display_javascript, display_html, display\n",
    "from geopy.geocoders import Nominatim\n",
    "import geojson\n",
    "\n",
    "class RenderJSON(object):\n",
    "    def __init__(self, json_data):\n",
    "        if isinstance(json_data, dict):\n",
    "            self.json_str = geojson.dumps(json_data)\n",
    "        else:\n",
    "            self.json_str = json_data\n",
    "        self.uuid = str(uuid.uuid4())\n",
    "\n",
    "    def _ipython_display_(self):\n",
    "        display_html('<div id=\"{}\" style=\"height: 600px; width:100%;\"></div>'.format(self.uuid), raw=True)\n",
    "        display_javascript(\"\"\"\n",
    "        require([\"https://rawgit.com/caldwell/renderjson/master/renderjson.js\"], function() {\n",
    "        document.getElementById('%s').appendChild(renderjson(%s))\n",
    "        });\n",
    "        \"\"\" % (self.uuid, self.json_str), raw=True)\n",
    "        \n",
    "class Locator:\n",
    "    \n",
    "    latitude = 'latitude'\n",
    "    longitude = 'longitude'\n",
    "    \n",
    "    \"\"\"Nominatim Locator \"\"\"\n",
    "    def __init__(self, locator):\n",
    "        self.geolocator = locator\n",
    "        \n",
    "    def _geocode(self, df, address_columns):\n",
    "        return self.geolocator.geocode(df.loc[address_columns].apply(str).str.cat(sep=\" \")) [1]\n",
    "        \n",
    "    def parse_address(self, df, address_columns):\n",
    "        df[['latitude', 'longitude']] = data.apply(self._geocode, address_columns=address_columns, axis=1, result_type='expand')\n",
    "        \n",
    "        return df\n",
    "    \n",
    "    @staticmethod\n",
    "    def get_coordinate_column_names():\n",
    "        return [Locator.longitude, Locator.latitude]"
   ]
  },
  {
   "cell_type": "code",
   "execution_count": 2,
   "metadata": {},
   "outputs": [],
   "source": [
    "# Read data and drop na rows\n",
    "data = pd.read_excel(\"data/data.xlsx\").dropna(how=\"all\")\n",
    "\n",
    "# Replace null values with np.nan\n",
    "data.replace(\"N.N.\", np.nan, inplace=True)\n",
    "data.replace(\"./.\", np.nan, inplace=True)\n",
    "data.fillna(\"\", inplace=True)\n",
    "data = data.applymap(lambda x: x.strftime(\"%d.%m.%Y\") if isinstance(x, pd.Timestamp) else x)\n",
    "\n",
    "# convert PLZ to int\n",
    "data.loc[:, \"PLZ\"] = data.loc[:, \"PLZ\"].apply(int)\n",
    "\n",
    "# convert address to location\n",
    "locator = Locator(Nominatim(user_agent='coordinateMaker', timeout=10))\n",
    "data = locator.parse_address(data, ['STRASSE + NR.', 'PLZ', 'STADT - BEZIRK'])\n",
    "\n",
    "insert_features = lambda df: geojson.Feature(\n",
    "    geometry=geojson.Point(\n",
    "        coordinates=df[Locator.get_coordinate_column_names()].to_list()\n",
    "    ),\n",
    "    properties=df.drop(Locator.get_coordinate_column_names()).to_dict()\n",
    ")"
   ]
  },
  {
   "cell_type": "code",
   "execution_count": 17,
   "metadata": {},
   "outputs": [],
   "source": [
    "data.head()\n",
    "# convert PLZ to int\n",
    "data.loc[:, \"PLZ\"] = data.loc[:, \"PLZ\"].apply(int)\n",
    "\n",
    "# convert address to location\n",
    "locator = Locator(Nominatim(user_agent='coordinateMaker', timeout=10))\n",
    "data = locator.parse_address(data, ['STRASSE + NR.', 'PLZ', 'STADT - BEZIRK'])\n",
    "\n",
    "insert_features = lambda df: geojson.Feature(\n",
    "    geometry=geojson.Point(\n",
    "        coordinates=df[Locator.get_coordinate_column_names()].to_list()\n",
    "    ),\n",
    "    properties=df.drop(Locator.get_coordinate_column_names()).to_dict()\n",
    ")"
   ]
  },
  {
   "cell_type": "code",
   "execution_count": 18,
   "metadata": {},
   "outputs": [],
   "source": [
    "\n",
    "features = data.apply(insert_features, axis=1)\n",
    "#RenderJSON(features.to_json(orient=\"records\"))"
   ]
  },
  {
   "cell_type": "code",
   "execution_count": 19,
   "metadata": {},
   "outputs": [
    {
     "data": {
      "text/html": [
       "<div id=\"ce87a2dd-e8ba-4b3c-9a7d-090b5601ed9c\" style=\"height: 600px; width:100%;\"></div>"
      ]
     },
     "metadata": {},
     "output_type": "display_data"
    },
    {
     "data": {
      "application/javascript": [
       "\n",
       "        require([\"https://rawgit.com/caldwell/renderjson/master/renderjson.js\"], function() {\n",
       "        document.getElementById('ce87a2dd-e8ba-4b3c-9a7d-090b5601ed9c').appendChild(renderjson({\"type\": \"FeatureCollection\", \"features\": [{\"type\": \"Feature\", \"geometry\": {\"type\": \"Point\", \"coordinates\": [52.567124, 13.35271]}, \"properties\": {\"OBJEKT\": \"Wei\\u00dfe Stadt Reinickendorf\", \"BAUJAHR\": \"1929-1931\", \"ARCHITEKT\": \"Wilhelm B\\u00fcning\", \"AUSF\\u00dcHRUNG\": \"\", \"BAUHERR\": \"Gemeinn\\u00fctzige Heimst\\u00e4ttengesellschaft \\\"Primus\\\" mbH\", \"STADT - BEZIRK\": \"Berlin-Reinickendorf\", \"PLZ\": 13047, \"STRASSE + NR.\": \"Bielerstr. 9\", \"FASSADE (AUSSEN)\": \"\", \"TREPPENHAUS (INNEN)\": \"\", \"GESCHOSS\": \"DG\", \"BAUTEIL, ELEMENT\": \"Dachgesims, Stirnbrett\", \"SKIZZE\": \"x\", \"TR\\u00c4GER\": \"Holz\", \"FARBBEFUND\": \"\", \"PROBENGR\\u00d6SSE L X B X H in cm\": \"5x1x0,2\", \"ENTNAHME-DATUM\": \"07.03.1983\", \"NAME BEARBEITER*IN ENTNAHME\": \"BR\", \"FREILEGEGT\": \"mechanisch\", \"INVENTAR-DATUM\": \"01.02.2021\", \"NAME BEARBEITER*IN INVENTARISIERUNG\": \"JH\", \"PROBENNR.\": \"PNR094a_WS\", \"PROBENBOX\": \"BOX01_WS\", \"ZUSTAND\": \"an Fangblatt geklebt\", \"FOTO- DATEINAME \": \"PNR094_WS\", \"VERWEIS FARBBEFUND-NR.\": \"F39\", \"VERWEIS Film Nr.\": \"\", \"VERWEIS Bild Nr\": \"\", \"VERWEIS UNTERSUCHUNGSBERICHT / GUTACHTEN\": \"\", \"MATERIAL / BM/ OBERFL\\u00c4CHE\\n\": \"\"}}, {\"type\": \"Feature\", \"geometry\": {\"type\": \"Point\", \"coordinates\": [52.567124, 13.35271]}, \"properties\": {\"OBJEKT\": \"Wei\\u00dfe Stadt Reinickendorf\", \"BAUJAHR\": \"1929-1931\", \"ARCHITEKT\": \"Wilhelm B\\u00fcning\", \"AUSF\\u00dcHRUNG\": \"\", \"BAUHERR\": \"Gemeinn\\u00fctzige Heimst\\u00e4ttengesellschaft \\\"Primus\\\" mbH\", \"STADT - BEZIRK\": \"Berlin-Reinickendorf\", \"PLZ\": 13047, \"STRASSE + NR.\": \"Bielerstr. 9\", \"FASSADE (AUSSEN)\": \"\", \"TREPPENHAUS (INNEN)\": \"\", \"GESCHOSS\": \"DG\", \"BAUTEIL, ELEMENT\": \"Dachgesims\", \"SKIZZE\": \"x\", \"TR\\u00c4GER\": \"Holz\", \"FARBBEFUND\": \"\", \"PROBENGR\\u00d6SSE L X B X H in cm\": \"7x1,7x0,2\", \"ENTNAHME-DATUM\": \"07.03.1983\", \"NAME BEARBEITER*IN ENTNAHME\": \"BR\", \"FREILEGEGT\": \"mechanisch\", \"INVENTAR-DATUM\": \"01.02.2021\", \"NAME BEARBEITER*IN INVENTARISIERUNG\": \"JH\", \"PROBENNR.\": \"PNR094b_WS\", \"PROBENBOX\": \"BOX01_WS\", \"ZUSTAND\": \"an Fangblatt geklebt\", \"FOTO- DATEINAME \": \"PNR094_WS\", \"VERWEIS FARBBEFUND-NR.\": \"F38\", \"VERWEIS Film Nr.\": \"\", \"VERWEIS Bild Nr\": \"\", \"VERWEIS UNTERSUCHUNGSBERICHT / GUTACHTEN\": \"\", \"MATERIAL / BM/ OBERFL\\u00c4CHE\\n\": \"\"}}, {\"type\": \"Feature\", \"geometry\": {\"type\": \"Point\", \"coordinates\": [52.567124, 13.35271]}, \"properties\": {\"OBJEKT\": \"Wei\\u00dfe Stadt Reinickendorf\", \"BAUJAHR\": \"1929-1931\", \"ARCHITEKT\": \"Wilhelm B\\u00fcning\", \"AUSF\\u00dcHRUNG\": \"\", \"BAUHERR\": \"Gemeinn\\u00fctzige Heimst\\u00e4ttengesellschaft \\\"Primus\\\" mbH\", \"STADT - BEZIRK\": \"Berlin-Reinickendorf\", \"PLZ\": 13047, \"STRASSE + NR.\": \"Bielerstr. 9\", \"FASSADE (AUSSEN)\": \"\", \"TREPPENHAUS (INNEN)\": \"\", \"GESCHOSS\": \"DG\", \"BAUTEIL, ELEMENT\": \"Dachgesims, Leiste Fassadenanschluss\", \"SKIZZE\": \"x\", \"TR\\u00c4GER\": \"Holz\", \"FARBBEFUND\": \"\", \"PROBENGR\\u00d6SSE L X B X H in cm\": \"8x0,8x0,2\", \"ENTNAHME-DATUM\": \"07.03.1983\", \"NAME BEARBEITER*IN ENTNAHME\": \"BR\", \"FREILEGEGT\": \"mechanisch\", \"INVENTAR-DATUM\": \"01.02.2021\", \"NAME BEARBEITER*IN INVENTARISIERUNG\": \"JH\", \"PROBENNR.\": \"PNR094c_WS\", \"PROBENBOX\": \"BOX01_WS\", \"ZUSTAND\": \"an Fangblatt geklebt\", \"FOTO- DATEINAME \": \"PNR094_WS\", \"VERWEIS FARBBEFUND-NR.\": \"F38.1\", \"VERWEIS Film Nr.\": \"\", \"VERWEIS Bild Nr\": \"\", \"VERWEIS UNTERSUCHUNGSBERICHT / GUTACHTEN\": \"\", \"MATERIAL / BM/ OBERFL\\u00c4CHE\\n\": \"\"}}, {\"type\": \"Feature\", \"geometry\": {\"type\": \"Point\", \"coordinates\": [52.567325, 13.35268]}, \"properties\": {\"OBJEKT\": \"Wei\\u00dfe Stadt Reinickendorf\", \"BAUJAHR\": \"1929-1931\", \"ARCHITEKT\": \"Wilhelm B\\u00fcning\", \"AUSF\\u00dcHRUNG\": \"\", \"BAUHERR\": \"Gemeinn\\u00fctzige Heimst\\u00e4ttengesellschaft \\\"Primus\\\" mbH\", \"STADT - BEZIRK\": \"Berlin-Reinickendorf\", \"PLZ\": 13047, \"STRASSE + NR.\": \"Baselerstr. 55\", \"FASSADE (AUSSEN)\": \"Stra\\u00dfenseite, Hauseingangsseite\", \"TREPPENHAUS (INNEN)\": \"\", \"GESCHOSS\": \"DG\", \"BAUTEIL, ELEMENT\": \"Dachgesims, Unterseite\", \"SKIZZE\": \"x\", \"TR\\u00c4GER\": \"Holz\", \"FARBBEFUND\": \"\", \"PROBENGR\\u00d6SSE L X B X H in cm\": \"7,5x1,8x0,3\", \"ENTNAHME-DATUM\": \"07.04.1983\", \"NAME BEARBEITER*IN ENTNAHME\": \"BR\", \"FREILEGEGT\": \"mechanisch\", \"INVENTAR-DATUM\": \"01.02.2021\", \"NAME BEARBEITER*IN INVENTARISIERUNG\": \"JH\", \"PROBENNR.\": \"PNR095_WS\", \"PROBENBOX\": \"BOX01_WS\", \"ZUSTAND\": \"an Fangblatt geklebt\", \"FOTO- DATEINAME \": \"PNR095_WS\", \"VERWEIS FARBBEFUND-NR.\": \"F37\", \"VERWEIS Film Nr.\": \"\", \"VERWEIS Bild Nr\": \"\", \"VERWEIS UNTERSUCHUNGSBERICHT / GUTACHTEN\": \"\", \"MATERIAL / BM/ OBERFL\\u00c4CHE\\n\": \"\"}}, {\"type\": \"Feature\", \"geometry\": {\"type\": \"Point\", \"coordinates\": [52.567325, 13.35268]}, \"properties\": {\"OBJEKT\": \"Wei\\u00dfe Stadt Reinickendorf\", \"BAUJAHR\": \"1929-1931\", \"ARCHITEKT\": \"Wilhelm B\\u00fcning\", \"AUSF\\u00dcHRUNG\": \"\", \"BAUHERR\": \"Gemeinn\\u00fctzige Heimst\\u00e4ttengesellschaft \\\"Primus\\\" mbH\", \"STADT - BEZIRK\": \"Berlin-Reinickendorf\", \"PLZ\": 13047, \"STRASSE + NR.\": \"Baselerstr. 55\", \"FASSADE (AUSSEN)\": \"Stra\\u00dfenseite, Hauseingangsseite\", \"TREPPENHAUS (INNEN)\": \"\", \"GESCHOSS\": \"DG\", \"BAUTEIL, ELEMENT\": \"Dachgesims, Leiste Fassadenanschluss\", \"SKIZZE\": \"x\", \"TR\\u00c4GER\": \"Holz\", \"FARBBEFUND\": \"\", \"PROBENGR\\u00d6SSE L X B X H in cm\": \"7x2,2x0,3\", \"ENTNAHME-DATUM\": \"07.04.1983\", \"NAME BEARBEITER*IN ENTNAHME\": \"BR\", \"FREILEGEGT\": \"mechanisch\", \"INVENTAR-DATUM\": \"01.02.2021\", \"NAME BEARBEITER*IN INVENTARISIERUNG\": \"JH\", \"PROBENNR.\": \"PNR096a_WS\", \"PROBENBOX\": \"BOX01_WS\", \"ZUSTAND\": \"an Fangblatt geklebt\", \"FOTO- DATEINAME \": \"PNR096_WS\", \"VERWEIS FARBBEFUND-NR.\": \"F38.1\", \"VERWEIS Film Nr.\": \"\", \"VERWEIS Bild Nr\": \"\", \"VERWEIS UNTERSUCHUNGSBERICHT / GUTACHTEN\": \"\", \"MATERIAL / BM/ OBERFL\\u00c4CHE\\n\": \"\"}}, {\"type\": \"Feature\", \"geometry\": {\"type\": \"Point\", \"coordinates\": [52.567325, 13.35268]}, \"properties\": {\"OBJEKT\": \"Wei\\u00dfe Stadt Reinickendorf\", \"BAUJAHR\": \"1929-1931\", \"ARCHITEKT\": \"Wilhelm B\\u00fcning\", \"AUSF\\u00dcHRUNG\": \"\", \"BAUHERR\": \"Gemeinn\\u00fctzige Heimst\\u00e4ttengesellschaft \\\"Primus\\\" mbH\", \"STADT - BEZIRK\": \"Berlin-Reinickendorf\", \"PLZ\": 13047, \"STRASSE + NR.\": \"Baselerstr. 55\", \"FASSADE (AUSSEN)\": \"Stra\\u00dfenseite, Hauseingangsseite\", \"TREPPENHAUS (INNEN)\": \"\", \"GESCHOSS\": \"DG\", \"BAUTEIL, ELEMENT\": \"Dachgesims, Unterseite\", \"SKIZZE\": \"x\", \"TR\\u00c4GER\": \"Holz\", \"FARBBEFUND\": \"\", \"PROBENGR\\u00d6SSE L X B X H in cm\": \"8x2,3x0,3\", \"ENTNAHME-DATUM\": \"07.04.1983\", \"NAME BEARBEITER*IN ENTNAHME\": \"BR\", \"FREILEGEGT\": \"mechanisch\", \"INVENTAR-DATUM\": \"01.02.2021\", \"NAME BEARBEITER*IN INVENTARISIERUNG\": \"JH\", \"PROBENNR.\": \"PNR096b_WS\", \"PROBENBOX\": \"BOX01_WS\", \"ZUSTAND\": \"an Fangblatt geklebt\", \"FOTO- DATEINAME \": \"PNR096_WS\", \"VERWEIS FARBBEFUND-NR.\": \"F37.1\", \"VERWEIS Film Nr.\": \"\", \"VERWEIS Bild Nr\": \"\", \"VERWEIS UNTERSUCHUNGSBERICHT / GUTACHTEN\": \"\", \"MATERIAL / BM/ OBERFL\\u00c4CHE\\n\": \"\"}}, {\"type\": \"Feature\", \"geometry\": {\"type\": \"Point\", \"coordinates\": [52.567088, 13.352499]}, \"properties\": {\"OBJEKT\": \"Wei\\u00dfe Stadt Reinickendorf\", \"BAUJAHR\": \"1929-1931\", \"ARCHITEKT\": \"Wilhelm B\\u00fcning\", \"AUSF\\u00dcHRUNG\": \"\", \"BAUHERR\": \"Gemeinn\\u00fctzige Heimst\\u00e4ttengesellschaft \\\"Primus\\\" mbH\", \"STADT - BEZIRK\": \"Berlin-Reinickendorf\", \"PLZ\": 13047, \"STRASSE + NR.\": \"Bielerstr. 7\", \"FASSADE (AUSSEN)\": \"Stra\\u00dfenseite, Hauseingangsseite\", \"TREPPENHAUS (INNEN)\": \"\", \"GESCHOSS\": \"DG\", \"BAUTEIL, ELEMENT\": \"Dachgesims, Stirnbrett\", \"SKIZZE\": \"x\", \"TR\\u00c4GER\": \"Holz\", \"FARBBEFUND\": \"\", \"PROBENGR\\u00d6SSE L X B X H in cm\": \"3,5x1,4x0,3\", \"ENTNAHME-DATUM\": \"10.04.1983\", \"NAME BEARBEITER*IN ENTNAHME\": \"BR\", \"FREILEGEGT\": \"mechanisch\", \"INVENTAR-DATUM\": \"01.02.2021\", \"NAME BEARBEITER*IN INVENTARISIERUNG\": \"JH\", \"PROBENNR.\": \"PNR097a_WS\", \"PROBENBOX\": \"BOX01_WS\", \"ZUSTAND\": \"an Fangblatt geklebt\", \"FOTO- DATEINAME \": \"PNR097_WS\", \"VERWEIS FARBBEFUND-NR.\": \"F39\", \"VERWEIS Film Nr.\": \"\", \"VERWEIS Bild Nr\": \"\", \"VERWEIS UNTERSUCHUNGSBERICHT / GUTACHTEN\": \"\", \"MATERIAL / BM/ OBERFL\\u00c4CHE\\n\": \"\"}}, {\"type\": \"Feature\", \"geometry\": {\"type\": \"Point\", \"coordinates\": [52.567088, 13.352499]}, \"properties\": {\"OBJEKT\": \"Wei\\u00dfe Stadt Reinickendorf\", \"BAUJAHR\": \"1929-1931\", \"ARCHITEKT\": \"Wilhelm B\\u00fcning\", \"AUSF\\u00dcHRUNG\": \"\", \"BAUHERR\": \"Gemeinn\\u00fctzige Heimst\\u00e4ttengesellschaft \\\"Primus\\\" mbH\", \"STADT - BEZIRK\": \"Berlin-Reinickendorf\", \"PLZ\": 13047, \"STRASSE + NR.\": \"Bielerstr. 7\", \"FASSADE (AUSSEN)\": \"Stra\\u00dfenseite, Hauseingangsseite\", \"TREPPENHAUS (INNEN)\": \"\", \"GESCHOSS\": \"DG\", \"BAUTEIL, ELEMENT\": \"Dachgesims, Stirnbrett\", \"SKIZZE\": \"x\", \"TR\\u00c4GER\": \"Holz\", \"FARBBEFUND\": \"\", \"PROBENGR\\u00d6SSE L X B X H in cm\": \"3x1,2x0,4\", \"ENTNAHME-DATUM\": \"10.04.1983\", \"NAME BEARBEITER*IN ENTNAHME\": \"BR\", \"FREILEGEGT\": \"mechanisch\", \"INVENTAR-DATUM\": \"01.02.2021\", \"NAME BEARBEITER*IN INVENTARISIERUNG\": \"JH\", \"PROBENNR.\": \"PNR097b_WS\", \"PROBENBOX\": \"BOX01_WS\", \"ZUSTAND\": \"an Fangblatt geklebt\", \"FOTO- DATEINAME \": \"PNR097_WS\", \"VERWEIS FARBBEFUND-NR.\": \"F39\", \"VERWEIS Film Nr.\": \"\", \"VERWEIS Bild Nr\": \"\", \"VERWEIS UNTERSUCHUNGSBERICHT / GUTACHTEN\": \"\", \"MATERIAL / BM/ OBERFL\\u00c4CHE\\n\": \"\"}}, {\"type\": \"Feature\", \"geometry\": {\"type\": \"Point\", \"coordinates\": [52.567088, 13.352499]}, \"properties\": {\"OBJEKT\": \"Wei\\u00dfe Stadt Reinickendorf\", \"BAUJAHR\": \"1929-1931\", \"ARCHITEKT\": \"Wilhelm B\\u00fcning\", \"AUSF\\u00dcHRUNG\": \"\", \"BAUHERR\": \"Gemeinn\\u00fctzige Heimst\\u00e4ttengesellschaft \\\"Primus\\\" mbH\", \"STADT - BEZIRK\": \"Berlin-Reinickendorf\", \"PLZ\": 13047, \"STRASSE + NR.\": \"Bielerstr. 7\", \"FASSADE (AUSSEN)\": \"Stra\\u00dfenseite, Hauseingangsseite\", \"TREPPENHAUS (INNEN)\": \"\", \"GESCHOSS\": \"DG\", \"BAUTEIL, ELEMENT\": \"Dachgesims, Leiste Anschluss Fassade\", \"SKIZZE\": \"x\", \"TR\\u00c4GER\": \"Holz\", \"FARBBEFUND\": \"\", \"PROBENGR\\u00d6SSE L X B X H in cm\": \"7,2x21,6x0,4\", \"ENTNAHME-DATUM\": \"10.04.1983\", \"NAME BEARBEITER*IN ENTNAHME\": \"BR\", \"FREILEGEGT\": \"mechanisch\", \"INVENTAR-DATUM\": \"01.02.2021\", \"NAME BEARBEITER*IN INVENTARISIERUNG\": \"JH\", \"PROBENNR.\": \"PNR097c_WS\", \"PROBENBOX\": \"BOX01_WS\", \"ZUSTAND\": \"an Fangblatt geklebt\", \"FOTO- DATEINAME \": \"PNR097_WS\", \"VERWEIS FARBBEFUND-NR.\": \"F38\", \"VERWEIS Film Nr.\": \"\", \"VERWEIS Bild Nr\": \"\", \"VERWEIS UNTERSUCHUNGSBERICHT / GUTACHTEN\": \"\", \"MATERIAL / BM/ OBERFL\\u00c4CHE\\n\": \"\"}}, {\"type\": \"Feature\", \"geometry\": {\"type\": \"Point\", \"coordinates\": [52.567453, 13.352616]}, \"properties\": {\"OBJEKT\": \"Wei\\u00dfe Stadt Reinickendorf\", \"BAUJAHR\": \"1929-1931\", \"ARCHITEKT\": \"Wilhelm B\\u00fcning\", \"AUSF\\u00dcHRUNG\": \"\", \"BAUHERR\": \"Gemeinn\\u00fctzige Heimst\\u00e4ttengesellschaft \\\"Primus\\\" mbH\", \"STADT - BEZIRK\": \"Berlin-Reinickendorf\", \"PLZ\": 13047, \"STRASSE + NR.\": \"Baselerstr. 57\", \"FASSADE (AUSSEN)\": \"Stra\\u00dfenseite, Hauseingangsseite\", \"TREPPENHAUS (INNEN)\": \"\", \"GESCHOSS\": \"DG\", \"BAUTEIL, ELEMENT\": \"Fassadenr\\u00fccksprung, Anschluss Dachgesims\", \"SKIZZE\": \"x\", \"TR\\u00c4GER\": \"Putz\", \"FARBBEFUND\": \"\", \"PROBENGR\\u00d6SSE L X B X H in cm\": \"5x5,5x1\", \"ENTNAHME-DATUM\": \"07.04.1983\", \"NAME BEARBEITER*IN ENTNAHME\": \"BR\", \"FREILEGEGT\": \"mechanisch\", \"INVENTAR-DATUM\": \"01.02.2021\", \"NAME BEARBEITER*IN INVENTARISIERUNG\": \"JH\", \"PROBENNR.\": \"PNR098_WS\", \"PROBENBOX\": \"BOX01_WS\", \"ZUSTAND\": \"an Fangblatt geklebt\", \"FOTO- DATEINAME \": \"PNR098_WS\", \"VERWEIS FARBBEFUND-NR.\": \"F42\", \"VERWEIS Film Nr.\": \"\", \"VERWEIS Bild Nr\": \"\", \"VERWEIS UNTERSUCHUNGSBERICHT / GUTACHTEN\": \"\", \"MATERIAL / BM/ OBERFL\\u00c4CHE\\n\": \"\"}}, {\"type\": \"Feature\", \"geometry\": {\"type\": \"Point\", \"coordinates\": [52.567453, 13.352616]}, \"properties\": {\"OBJEKT\": \"Wei\\u00dfe Stadt Reinickendorf\", \"BAUJAHR\": \"1929-1931\", \"ARCHITEKT\": \"Wilhelm B\\u00fcning\", \"AUSF\\u00dcHRUNG\": \"\", \"BAUHERR\": \"Gemeinn\\u00fctzige Heimst\\u00e4ttengesellschaft \\\"Primus\\\" mbH\", \"STADT - BEZIRK\": \"Berlin-Reinickendorf\", \"PLZ\": 13047, \"STRASSE + NR.\": \"Baselerstr. 57\", \"FASSADE (AUSSEN)\": \"Stra\\u00dfenseite, Hauseingangsseite\", \"TREPPENHAUS (INNEN)\": \"\", \"GESCHOSS\": \"DG\", \"BAUTEIL, ELEMENT\": \"Dachgesims, Unterseite\", \"SKIZZE\": \"x\", \"TR\\u00c4GER\": \"Holz\", \"FARBBEFUND\": \"\", \"PROBENGR\\u00d6SSE L X B X H in cm\": \"5x3x0,2\", \"ENTNAHME-DATUM\": \"07.04.1983\", \"NAME BEARBEITER*IN ENTNAHME\": \"BR\", \"FREILEGEGT\": \"mechanisch\", \"INVENTAR-DATUM\": \"01.02.2021\", \"NAME BEARBEITER*IN INVENTARISIERUNG\": \"JH\", \"PROBENNR.\": \"PNR099a_WS\", \"PROBENBOX\": \"BOX01_WS\", \"ZUSTAND\": \"an Fangblatt geklebt\", \"FOTO- DATEINAME \": \"PNR099_WS\", \"VERWEIS FARBBEFUND-NR.\": \"F38.1\", \"VERWEIS Film Nr.\": \"\", \"VERWEIS Bild Nr\": \"\", \"VERWEIS UNTERSUCHUNGSBERICHT / GUTACHTEN\": \"\", \"MATERIAL / BM/ OBERFL\\u00c4CHE\\n\": \"\"}}, {\"type\": \"Feature\", \"geometry\": {\"type\": \"Point\", \"coordinates\": [52.567453, 13.352616]}, \"properties\": {\"OBJEKT\": \"Wei\\u00dfe Stadt Reinickendorf\", \"BAUJAHR\": \"1929-1931\", \"ARCHITEKT\": \"Wilhelm B\\u00fcning\", \"AUSF\\u00dcHRUNG\": \"\", \"BAUHERR\": \"Gemeinn\\u00fctzige Heimst\\u00e4ttengesellschaft \\\"Primus\\\" mbH\", \"STADT - BEZIRK\": \"Berlin-Reinickendorf\", \"PLZ\": 13047, \"STRASSE + NR.\": \"Baselerstr. 57\", \"FASSADE (AUSSEN)\": \"Stra\\u00dfenseite, Hauseingangsseite\", \"TREPPENHAUS (INNEN)\": \"\", \"GESCHOSS\": \"DG\", \"BAUTEIL, ELEMENT\": \"Dachgesims, Leiste Fassadenanschluss\", \"SKIZZE\": \"x\", \"TR\\u00c4GER\": \"Holz\", \"FARBBEFUND\": \"\", \"PROBENGR\\u00d6SSE L X B X H in cm\": \"10x2,7x0,2\", \"ENTNAHME-DATUM\": \"07.04.1983\", \"NAME BEARBEITER*IN ENTNAHME\": \"BR\", \"FREILEGEGT\": \"mechanisch\", \"INVENTAR-DATUM\": \"01.02.2021\", \"NAME BEARBEITER*IN INVENTARISIERUNG\": \"JH\", \"PROBENNR.\": \"PNR099b_WS\", \"PROBENBOX\": \"BOX01_WS\", \"ZUSTAND\": \"an Fangblatt geklebt\", \"FOTO- DATEINAME \": \"PNR099_WS\", \"VERWEIS FARBBEFUND-NR.\": \"F37.1\", \"VERWEIS Film Nr.\": \"\", \"VERWEIS Bild Nr\": \"\", \"VERWEIS UNTERSUCHUNGSBERICHT / GUTACHTEN\": \"\", \"MATERIAL / BM/ OBERFL\\u00c4CHE\\n\": \"\"}}, {\"type\": \"Feature\", \"geometry\": {\"type\": \"Point\", \"coordinates\": [52.567453, 13.352616]}, \"properties\": {\"OBJEKT\": \"Wei\\u00dfe Stadt Reinickendorf\", \"BAUJAHR\": \"1929-1931\", \"ARCHITEKT\": \"Wilhelm B\\u00fcning\", \"AUSF\\u00dcHRUNG\": \"\", \"BAUHERR\": \"Gemeinn\\u00fctzige Heimst\\u00e4ttengesellschaft \\\"Primus\\\" mbH\", \"STADT - BEZIRK\": \"Berlin-Reinickendorf\", \"PLZ\": 13047, \"STRASSE + NR.\": \"Baselerstr. 57\", \"FASSADE (AUSSEN)\": \"Stra\\u00dfenseite, Hauseingangsseite\", \"TREPPENHAUS (INNEN)\": \"\", \"GESCHOSS\": \"DG\", \"BAUTEIL, ELEMENT\": \"Dachgesims\", \"SKIZZE\": \"x\", \"TR\\u00c4GER\": \"Holz\", \"FARBBEFUND\": \"\", \"PROBENGR\\u00d6SSE L X B X H in cm\": \"3,5x1x0,5\", \"ENTNAHME-DATUM\": \"07.04.1983\", \"NAME BEARBEITER*IN ENTNAHME\": \"BR\", \"FREILEGEGT\": \"mechanisch\", \"INVENTAR-DATUM\": \"01.02.2021\", \"NAME BEARBEITER*IN INVENTARISIERUNG\": \"JH\", \"PROBENNR.\": \"PNR100a_WS\", \"PROBENBOX\": \"BOX01_WS\", \"ZUSTAND\": \"an Fangblatt geklebt\", \"FOTO- DATEINAME \": \"PNR100_WS\", \"VERWEIS FARBBEFUND-NR.\": \"F37.2\", \"VERWEIS Film Nr.\": \"\", \"VERWEIS Bild Nr\": \"\", \"VERWEIS UNTERSUCHUNGSBERICHT / GUTACHTEN\": \"\", \"MATERIAL / BM/ OBERFL\\u00c4CHE\\n\": \"\"}}, {\"type\": \"Feature\", \"geometry\": {\"type\": \"Point\", \"coordinates\": [52.567453, 13.352616]}, \"properties\": {\"OBJEKT\": \"Wei\\u00dfe Stadt Reinickendorf\", \"BAUJAHR\": \"1929-1931\", \"ARCHITEKT\": \"Wilhelm B\\u00fcning\", \"AUSF\\u00dcHRUNG\": \"\", \"BAUHERR\": \"Gemeinn\\u00fctzige Heimst\\u00e4ttengesellschaft \\\"Primus\\\" mbH\", \"STADT - BEZIRK\": \"Berlin-Reinickendorf\", \"PLZ\": 13047, \"STRASSE + NR.\": \"Baselerstr. 57\", \"FASSADE (AUSSEN)\": \"Stra\\u00dfenseite, Hauseingangsseite\", \"TREPPENHAUS (INNEN)\": \"\", \"GESCHOSS\": \"DG\", \"BAUTEIL, ELEMENT\": \"Dachgesims\", \"SKIZZE\": \"x\", \"TR\\u00c4GER\": \"Holz\", \"FARBBEFUND\": \"\", \"PROBENGR\\u00d6SSE L X B X H in cm\": \"4x1,2x0,6\", \"ENTNAHME-DATUM\": \"07.04.1983\", \"NAME BEARBEITER*IN ENTNAHME\": \"BR\", \"FREILEGEGT\": \"mechanisch\", \"INVENTAR-DATUM\": \"01.02.2021\", \"NAME BEARBEITER*IN INVENTARISIERUNG\": \"JH\", \"PROBENNR.\": \"PNR100b_WS\", \"PROBENBOX\": \"BOX01_WS\", \"ZUSTAND\": \"an Fangblatt geklebt\", \"FOTO- DATEINAME \": \"PNR100_WS\", \"VERWEIS FARBBEFUND-NR.\": \"F37.2\", \"VERWEIS Film Nr.\": \"\", \"VERWEIS Bild Nr\": \"\", \"VERWEIS UNTERSUCHUNGSBERICHT / GUTACHTEN\": \"\", \"MATERIAL / BM/ OBERFL\\u00c4CHE\\n\": \"\"}}, {\"type\": \"Feature\", \"geometry\": {\"type\": \"Point\", \"coordinates\": [52.567453, 13.352616]}, \"properties\": {\"OBJEKT\": \"Wei\\u00dfe Stadt Reinickendorf\", \"BAUJAHR\": \"1929-1931\", \"ARCHITEKT\": \"Wilhelm B\\u00fcning\", \"AUSF\\u00dcHRUNG\": \"\", \"BAUHERR\": \"Gemeinn\\u00fctzige Heimst\\u00e4ttengesellschaft \\\"Primus\\\" mbH\", \"STADT - BEZIRK\": \"Berlin-Reinickendorf\", \"PLZ\": 13047, \"STRASSE + NR.\": \"Baselerstr. 57\", \"FASSADE (AUSSEN)\": \"Stra\\u00dfenseite, Hauseingangsseite\", \"TREPPENHAUS (INNEN)\": \"\", \"GESCHOSS\": \"DG\", \"BAUTEIL, ELEMENT\": \"Dachgesims, Unterseite\", \"SKIZZE\": \"x\", \"TR\\u00c4GER\": \"Holz\", \"FARBBEFUND\": \"\", \"PROBENGR\\u00d6SSE L X B X H in cm\": \"4,6x1,2x0,2\", \"ENTNAHME-DATUM\": \"07.04.1983\", \"NAME BEARBEITER*IN ENTNAHME\": \"BR\", \"FREILEGEGT\": \"mechanisch\", \"INVENTAR-DATUM\": \"01.02.2021\", \"NAME BEARBEITER*IN INVENTARISIERUNG\": \"JH\", \"PROBENNR.\": \"PNR100c_WS\", \"PROBENBOX\": \"BOX01_WS\", \"ZUSTAND\": \"an Fangblatt geklebt\", \"FOTO- DATEINAME \": \"PNR100_WS\", \"VERWEIS FARBBEFUND-NR.\": \"F37.1\", \"VERWEIS Film Nr.\": \"\", \"VERWEIS Bild Nr\": \"\", \"VERWEIS UNTERSUCHUNGSBERICHT / GUTACHTEN\": \"\", \"MATERIAL / BM/ OBERFL\\u00c4CHE\\n\": \"\"}}, {\"type\": \"Feature\", \"geometry\": {\"type\": \"Point\", \"coordinates\": [52.567453, 13.352616]}, \"properties\": {\"OBJEKT\": \"Wei\\u00dfe Stadt Reinickendorf\", \"BAUJAHR\": \"1929-1931\", \"ARCHITEKT\": \"Wilhelm B\\u00fcning\", \"AUSF\\u00dcHRUNG\": \"\", \"BAUHERR\": \"Gemeinn\\u00fctzige Heimst\\u00e4ttengesellschaft \\\"Primus\\\" mbH\", \"STADT - BEZIRK\": \"Berlin-Reinickendorf\", \"PLZ\": 13047, \"STRASSE + NR.\": \"Baselerstr. 57\", \"FASSADE (AUSSEN)\": \"Stra\\u00dfenseite, Hauseingangsseite\", \"TREPPENHAUS (INNEN)\": \"\", \"GESCHOSS\": \"DG\", \"BAUTEIL, ELEMENT\": \"Dachgesims, Unterseite\", \"SKIZZE\": \"x\", \"TR\\u00c4GER\": \"Holz\", \"FARBBEFUND\": \"\", \"PROBENGR\\u00d6SSE L X B X H in cm\": \"7,7x1,5x9,3\", \"ENTNAHME-DATUM\": \"07.04.1983\", \"NAME BEARBEITER*IN ENTNAHME\": \"BR\", \"FREILEGEGT\": \"mechanisch\", \"INVENTAR-DATUM\": \"01.02.2021\", \"NAME BEARBEITER*IN INVENTARISIERUNG\": \"JH\", \"PROBENNR.\": \"PNR100d_WS\", \"PROBENBOX\": \"BOX01_WS\", \"ZUSTAND\": \"an Fangblatt geklebt\", \"FOTO- DATEINAME \": \"PNR100_WS\", \"VERWEIS FARBBEFUND-NR.\": \"F37.1\", \"VERWEIS Film Nr.\": \"\", \"VERWEIS Bild Nr\": \"\", \"VERWEIS UNTERSUCHUNGSBERICHT / GUTACHTEN\": \"\", \"MATERIAL / BM/ OBERFL\\u00c4CHE\\n\": \"\"}}]}))\n",
       "        });\n",
       "        "
      ]
     },
     "metadata": {},
     "output_type": "display_data"
    }
   ],
   "source": [
    "RenderJSON(geojson.FeatureCollection(features.to_list()))"
   ]
  },
  {
   "cell_type": "code",
   "execution_count": null,
   "metadata": {},
   "outputs": [],
   "source": []
  }
 ],
 "metadata": {
  "kernelspec": {
   "display_name": "brenne",
   "language": "python",
   "name": "brenne"
  },
  "language_info": {
   "codemirror_mode": {
    "name": "ipython",
    "version": 3
   },
   "file_extension": ".py",
   "mimetype": "text/x-python",
   "name": "python",
   "nbconvert_exporter": "python",
   "pygments_lexer": "ipython3",
   "version": "3.9.0"
  }
 },
 "nbformat": 4,
 "nbformat_minor": 4
}
